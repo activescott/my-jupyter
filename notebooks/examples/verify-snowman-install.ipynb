{
 "cells": [
  {
   "cell_type": "code",
   "execution_count": 1,
   "id": "8c43262b-b309-456f-95be-d65d24ba9f8d",
   "metadata": {},
   "outputs": [
    {
     "name": "stdout",
     "output_type": "stream",
     "text": [
      "  File: /snowflake-key-pair\n",
      "  Size: 160       \tBlocks: 0          IO Block: 4096   directory\n",
      "Device: 83h/131d\tInode: 7060636     Links: 5\n",
      "Access: (0755/drwxr-xr-x)  Uid: ( 1000/  jovyan)   Gid: ( 1000/  jovyan)\n",
      "Access: 2022-12-05 02:45:03.521436511 +0000\n",
      "Modify: 2022-12-05 02:45:03.509741432 +0000\n",
      "Change: 2022-12-05 02:45:03.509741432 +0000\n",
      " Birth: -\n",
      "\n",
      "dir contents:\n",
      "total 16\n",
      "drwxr-xr-x 5 jovyan jovyan  160 Dec  5 02:45 .\n",
      "drwxr-xr-x 1 root   root   4096 Dec  7 02:10 ..\n",
      "-rw-r--r-- 1 jovyan jovyan 2605 Dec  5 03:11 README.md\n",
      "-rw-r--r-- 1 jovyan jovyan 1785 Dec  5 02:44 rsa_key.p8\n",
      "-rw-r--r-- 1 jovyan jovyan  451 Dec  5 02:45 rsa_key.pub\n"
     ]
    }
   ],
   "source": [
    "%%sh\n",
    "\n",
    "stat /snowflake-key-pair\n",
    "echo \"\\ndir contents:\"\n",
    "ls -la /snowflake-key-pair/"
   ]
  },
  {
   "cell_type": "code",
   "execution_count": 2,
   "id": "7e9c99e0-4a24-4626-b2c0-0e7de1d7bded",
   "metadata": {},
   "outputs": [],
   "source": [
    "%%sh\n",
    "\n",
    "#set\n",
    "# BE SURE TO CLEAR THIS OUTPUT (because SNOWFLAKE_PRIVATE_KEY_PASSPHRASE)!"
   ]
  },
  {
   "cell_type": "code",
   "execution_count": 3,
   "id": "77748833-ee56-40d7-81e8-04ac523f95ea",
   "metadata": {},
   "outputs": [
    {
     "name": "stderr",
     "output_type": "stream",
     "text": [
      "2022-12-07 02:17:28,624 INFO numexpr.utils NumExpr defaulting to 6 threads.\n"
     ]
    },
    {
     "name": "stdout",
     "output_type": "stream",
     "text": [
      "As long as you don't see an error this is good!\n"
     ]
    }
   ],
   "source": [
    "from snowman.connect import connect\n",
    "connect()\n",
    "print(\"As long as you don't see an error this is good!\")"
   ]
  },
  {
   "cell_type": "code",
   "execution_count": 4,
   "id": "9bd86045-14a5-4278-99f1-89fd9e605f84",
   "metadata": {},
   "outputs": [
    {
     "name": "stdout",
     "output_type": "stream",
     "text": [
      "Date and time on Snowflake is:2022-12-06 18:17:29.710000-08:00\n"
     ]
    }
   ],
   "source": [
    "from snowman.connect import fetch\n",
    "\n",
    "sql = 'SELECT CURRENT_TIMESTAMP;'\n",
    "cur = fetch(sql)\n",
    "\n",
    "rows = cur.fetchmany(100)\n",
    "assert rows is not None\n",
    "assert 1 == len(rows)\n",
    "row = rows[0]\n",
    "assert 1 == len(row)\n",
    "print(\"Date and time on Snowflake is:\" + str(row[0]))"
   ]
  }
 ],
 "metadata": {
  "kernelspec": {
   "display_name": "Python 3 (ipykernel)",
   "language": "python",
   "name": "python3"
  },
  "language_info": {
   "codemirror_mode": {
    "name": "ipython",
    "version": 3
   },
   "file_extension": ".py",
   "mimetype": "text/x-python",
   "name": "python",
   "nbconvert_exporter": "python",
   "pygments_lexer": "ipython3",
   "version": "3.10.8"
  }
 },
 "nbformat": 4,
 "nbformat_minor": 5
}
