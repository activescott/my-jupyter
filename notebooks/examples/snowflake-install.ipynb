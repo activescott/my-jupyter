{
 "cells": [
  {
   "cell_type": "markdown",
   "metadata": {},
   "source": [
    "# Install Snowflake Python Connector\n",
    "\n",
    "Docs are https://docs.snowflake.com/en/user-guide/python-connector-install.html#label-python-connector-install-connector\n",
    "\n",
    "## First get the version of python:"
   ]
  },
  {
   "cell_type": "code",
   "execution_count": 4,
   "metadata": {},
   "outputs": [
    {
     "name": "stdout",
     "output_type": "stream",
     "text": [
      "Python 3.10.4\n"
     ]
    }
   ],
   "source": [
    "%%sh\n",
    "python --version\n"
   ]
  },
  {
   "cell_type": "code",
   "execution_count": 11,
   "metadata": {},
   "outputs": [
    {
     "name": "stdout",
     "output_type": "stream",
     "text": [
      "Installing from requirements url: https://raw.githubusercontent.com/snowflakedb/snowflake-connector-python/v2.8.3/tested_requirements/requirements_310.reqs\n",
      "installing dependencies...\n",
      "Requirement already satisfied: asn1crypto==1.5.1 in /usr/local/python/3.10.4/lib/python3.10/site-packages (from -r https://raw.githubusercontent.com/snowflakedb/snowflake-connector-python/v2.8.3/tested_requirements/requirements_310.reqs (line 2)) (1.5.1)\n",
      "Requirement already satisfied: certifi==2022.9.24 in /home/codespace/.local/lib/python3.10/site-packages (from -r https://raw.githubusercontent.com/snowflakedb/snowflake-connector-python/v2.8.3/tested_requirements/requirements_310.reqs (line 3)) (2022.9.24)\n",
      "Requirement already satisfied: cffi==1.15.1 in /home/codespace/.local/lib/python3.10/site-packages (from -r https://raw.githubusercontent.com/snowflakedb/snowflake-connector-python/v2.8.3/tested_requirements/requirements_310.reqs (line 4)) (1.15.1)\n",
      "Requirement already satisfied: charset-normalizer==2.1.1 in /home/codespace/.local/lib/python3.10/site-packages (from -r https://raw.githubusercontent.com/snowflakedb/snowflake-connector-python/v2.8.3/tested_requirements/requirements_310.reqs (line 5)) (2.1.1)\n",
      "Requirement already satisfied: cryptography==38.0.4 in /usr/local/python/3.10.4/lib/python3.10/site-packages (from -r https://raw.githubusercontent.com/snowflakedb/snowflake-connector-python/v2.8.3/tested_requirements/requirements_310.reqs (line 6)) (38.0.4)\n",
      "Requirement already satisfied: filelock==3.8.0 in /usr/local/python/3.10.4/lib/python3.10/site-packages (from -r https://raw.githubusercontent.com/snowflakedb/snowflake-connector-python/v2.8.3/tested_requirements/requirements_310.reqs (line 7)) (3.8.0)\n",
      "Requirement already satisfied: idna==3.4 in /home/codespace/.local/lib/python3.10/site-packages (from -r https://raw.githubusercontent.com/snowflakedb/snowflake-connector-python/v2.8.3/tested_requirements/requirements_310.reqs (line 8)) (3.4)\n",
      "Requirement already satisfied: oscrypto==1.3.0 in /usr/local/python/3.10.4/lib/python3.10/site-packages (from -r https://raw.githubusercontent.com/snowflakedb/snowflake-connector-python/v2.8.3/tested_requirements/requirements_310.reqs (line 9)) (1.3.0)\n",
      "Requirement already satisfied: pycparser==2.21 in /home/codespace/.local/lib/python3.10/site-packages (from -r https://raw.githubusercontent.com/snowflakedb/snowflake-connector-python/v2.8.3/tested_requirements/requirements_310.reqs (line 10)) (2.21)\n",
      "Requirement already satisfied: pycryptodomex==3.16.0 in /usr/local/python/3.10.4/lib/python3.10/site-packages (from -r https://raw.githubusercontent.com/snowflakedb/snowflake-connector-python/v2.8.3/tested_requirements/requirements_310.reqs (line 11)) (3.16.0)\n",
      "Requirement already satisfied: PyJWT==2.6.0 in /usr/local/python/3.10.4/lib/python3.10/site-packages (from -r https://raw.githubusercontent.com/snowflakedb/snowflake-connector-python/v2.8.3/tested_requirements/requirements_310.reqs (line 12)) (2.6.0)\n",
      "Requirement already satisfied: pyOpenSSL==22.1.0 in /usr/local/python/3.10.4/lib/python3.10/site-packages (from -r https://raw.githubusercontent.com/snowflakedb/snowflake-connector-python/v2.8.3/tested_requirements/requirements_310.reqs (line 13)) (22.1.0)\n",
      "Requirement already satisfied: pytz==2022.6 in /home/codespace/.local/lib/python3.10/site-packages (from -r https://raw.githubusercontent.com/snowflakedb/snowflake-connector-python/v2.8.3/tested_requirements/requirements_310.reqs (line 14)) (2022.6)\n",
      "Requirement already satisfied: requests==2.28.1 in /home/codespace/.local/lib/python3.10/site-packages (from -r https://raw.githubusercontent.com/snowflakedb/snowflake-connector-python/v2.8.3/tested_requirements/requirements_310.reqs (line 15)) (2.28.1)\n",
      "Requirement already satisfied: typing_extensions==4.4.0 in /home/codespace/.local/lib/python3.10/site-packages (from -r https://raw.githubusercontent.com/snowflakedb/snowflake-connector-python/v2.8.3/tested_requirements/requirements_310.reqs (line 16)) (4.4.0)\n",
      "Requirement already satisfied: urllib3==1.26.13 in /home/codespace/.local/lib/python3.10/site-packages (from -r https://raw.githubusercontent.com/snowflakedb/snowflake-connector-python/v2.8.3/tested_requirements/requirements_310.reqs (line 17)) (1.26.13)\n",
      "Requirement already satisfied: snowflake-connector-python==2.8.3 in /usr/local/python/3.10.4/lib/python3.10/site-packages (from -r https://raw.githubusercontent.com/snowflakedb/snowflake-connector-python/v2.8.3/tested_requirements/requirements_310.reqs (line 18)) (2.8.3)\n",
      "Requirement already satisfied: setuptools>34.0.0 in /usr/local/python/3.10.4/lib/python3.10/site-packages (from snowflake-connector-python==2.8.3->-r https://raw.githubusercontent.com/snowflakedb/snowflake-connector-python/v2.8.3/tested_requirements/requirements_310.reqs (line 18)) (58.1.0)\n",
      "installing dependencies complete.\n",
      "installing connector...\n",
      "Requirement already satisfied: snowflake-connector-python==v2.8.3 in /usr/local/python/3.10.4/lib/python3.10/site-packages (2.8.3)\n",
      "Requirement already satisfied: oscrypto<2.0.0 in /usr/local/python/3.10.4/lib/python3.10/site-packages (from snowflake-connector-python==v2.8.3) (1.3.0)\n",
      "Requirement already satisfied: cryptography<41.0.0,>=3.1.0 in /usr/local/python/3.10.4/lib/python3.10/site-packages (from snowflake-connector-python==v2.8.3) (38.0.4)\n",
      "Requirement already satisfied: setuptools>34.0.0 in /usr/local/python/3.10.4/lib/python3.10/site-packages (from snowflake-connector-python==v2.8.3) (58.1.0)\n",
      "Requirement already satisfied: requests<3.0.0 in /home/codespace/.local/lib/python3.10/site-packages (from snowflake-connector-python==v2.8.3) (2.28.1)\n",
      "Requirement already satisfied: pytz in /home/codespace/.local/lib/python3.10/site-packages (from snowflake-connector-python==v2.8.3) (2022.6)\n",
      "Requirement already satisfied: cffi<2.0.0,>=1.9 in /home/codespace/.local/lib/python3.10/site-packages (from snowflake-connector-python==v2.8.3) (1.15.1)\n",
      "Requirement already satisfied: pyOpenSSL<23.0.0,>=16.2.0 in /usr/local/python/3.10.4/lib/python3.10/site-packages (from snowflake-connector-python==v2.8.3) (22.1.0)\n",
      "Requirement already satisfied: idna<4,>=2.5 in /home/codespace/.local/lib/python3.10/site-packages (from snowflake-connector-python==v2.8.3) (3.4)\n",
      "Requirement already satisfied: urllib3<1.27,>=1.21.1 in /home/codespace/.local/lib/python3.10/site-packages (from snowflake-connector-python==v2.8.3) (1.26.13)\n",
      "Requirement already satisfied: filelock<4,>=3.5 in /usr/local/python/3.10.4/lib/python3.10/site-packages (from snowflake-connector-python==v2.8.3) (3.8.0)\n",
      "Requirement already satisfied: asn1crypto<2.0.0,>0.24.0 in /usr/local/python/3.10.4/lib/python3.10/site-packages (from snowflake-connector-python==v2.8.3) (1.5.1)\n",
      "Requirement already satisfied: pyjwt<3.0.0 in /usr/local/python/3.10.4/lib/python3.10/site-packages (from snowflake-connector-python==v2.8.3) (2.6.0)\n",
      "Requirement already satisfied: charset-normalizer<3,>=2 in /home/codespace/.local/lib/python3.10/site-packages (from snowflake-connector-python==v2.8.3) (2.1.1)\n",
      "Requirement already satisfied: pycryptodomex!=3.5.0,<4.0.0,>=3.2 in /usr/local/python/3.10.4/lib/python3.10/site-packages (from snowflake-connector-python==v2.8.3) (3.16.0)\n",
      "Requirement already satisfied: typing-extensions<5,>=4.3 in /home/codespace/.local/lib/python3.10/site-packages (from snowflake-connector-python==v2.8.3) (4.4.0)\n",
      "Requirement already satisfied: certifi>=2017.4.17 in /home/codespace/.local/lib/python3.10/site-packages (from snowflake-connector-python==v2.8.3) (2022.9.24)\n",
      "Requirement already satisfied: pycparser in /home/codespace/.local/lib/python3.10/site-packages (from cffi<2.0.0,>=1.9->snowflake-connector-python==v2.8.3) (2.21)\n",
      "installing connector complete\n"
     ]
    }
   ],
   "source": [
    "%%sh \n",
    "# record the versions of connector and python we want to use it in:\n",
    "sf_connector_ver=v2.8.3\n",
    "# use version format according to files at https://github.com/snowflakedb/snowflake-connector-python/tree/main/tested_requirements\n",
    "python_ver=310\n",
    "\n",
    "# Install Dependencies of connector:\n",
    "## Get requirements for our version:\n",
    "reqs_url=\"https://raw.githubusercontent.com/snowflakedb/snowflake-connector-python/$sf_connector_ver/tested_requirements/requirements_$python_ver.reqs\"\n",
    "echo \"Installing from requirements url: $reqs_url\"\n",
    "\n",
    "echo \"installing dependencies...\"\n",
    "pip install -r \"$reqs_url\"\n",
    "echo \"installing dependencies complete.\"\n",
    "\n",
    "# Install connector itself:\n",
    "echo \"installing connector...\"\n",
    "pip install \"snowflake-connector-python==$sf_connector_ver\"\n",
    "echo \"installing connector complete\"\n"
   ]
  },
  {
   "cell_type": "code",
   "execution_count": null,
   "metadata": {},
   "outputs": [],
   "source": [
    "# Verify Installation\n",
    "\n",
    "import snowflake.connector\n",
    "# Gets the version\n",
    "ctx = snowflake.connector.connect(\n",
    "    user='<user_name>',\n",
    "    password='<password>',\n",
    "    account='<account_identifier>'\n",
    "    )\n",
    "cs = ctx.cursor()\n",
    "try:\n",
    "    cs.execute(\"SELECT current_version()\")\n",
    "    one_row = cs.fetchone()\n",
    "    print(one_row[0])\n",
    "finally:\n",
    "    cs.close()\n",
    "ctx.close()\n"
   ]
  }
 ],
 "metadata": {
  "kernelspec": {
   "display_name": "Python 3.10.8 ('base')",
   "language": "python",
   "name": "python3"
  },
  "language_info": {
   "codemirror_mode": {
    "name": "ipython",
    "version": 3
   },
   "file_extension": ".py",
   "mimetype": "text/x-python",
   "name": "python",
   "nbconvert_exporter": "python",
   "pygments_lexer": "ipython3",
   "version": "3.10.8"
  },
  "orig_nbformat": 4,
  "vscode": {
   "interpreter": {
    "hash": "d4d1e4263499bec80672ea0156c357c1ee493ec2b1c70f0acce89fc37c4a6abe"
   }
  }
 },
 "nbformat": 4,
 "nbformat_minor": 2
}
