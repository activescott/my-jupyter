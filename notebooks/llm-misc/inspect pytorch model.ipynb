{
 "cells": [
  {
   "cell_type": "code",
   "execution_count": 1,
   "id": "b8971b02-0acf-4ceb-8ef8-69e634661f16",
   "metadata": {
    "tags": []
   },
   "outputs": [
    {
     "name": "stdout",
     "output_type": "stream",
     "text": [
      "LLaMA\n"
     ]
    }
   ],
   "source": [
    "%%sh\n",
    "ls /home/jovyan/_models/"
   ]
  },
  {
   "cell_type": "code",
   "execution_count": null,
   "id": "50bbae2f-5794-4306-b7e4-804ee9fa714d",
   "metadata": {
    "tags": []
   },
   "outputs": [],
   "source": [
    "# load the llama-v2 models and see stats\n",
    "import torch\n",
    "\n",
    "model = torch.load('/home/jovyan/_models/LLaMA/13B/consolidated.00.pth', map_location=torch.device('cpu'))\n"
   ]
  },
  {
   "cell_type": "code",
   "execution_count": null,
   "id": "abb80481-2a8c-4a90-b5b2-669ecfff4522",
   "metadata": {
    "tags": []
   },
   "outputs": [],
   "source": [
    "for param in model.parameters(): \n",
    "    print(param)"
   ]
  }
 ],
 "metadata": {
  "kernelspec": {
   "display_name": "Python 3 (ipykernel)",
   "language": "python",
   "name": "python3"
  },
  "language_info": {
   "codemirror_mode": {
    "name": "ipython",
    "version": 3
   },
   "file_extension": ".py",
   "mimetype": "text/x-python",
   "name": "python",
   "nbconvert_exporter": "python",
   "pygments_lexer": "ipython3",
   "version": "3.10.10"
  }
 },
 "nbformat": 4,
 "nbformat_minor": 5
}
